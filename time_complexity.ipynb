{
  "cells": [
    {
      "cell_type": "markdown",
      "metadata": {
        "id": "view-in-github",
        "colab_type": "text"
      },
      "source": [
        "<a href=\"https://colab.research.google.com/github/gt-cse-6040/big-o/blob/main/time_complexity.ipynb\" target=\"_parent\"><img src=\"https://colab.research.google.com/assets/colab-badge.svg\" alt=\"Open In Colab\"/></a>"
      ]
    },
    {
      "cell_type": "markdown",
      "metadata": {
        "nbgrader": {
          "grade": false,
          "locked": true,
          "solution": false
        },
        "id": "K6e490k6cYJA"
      },
      "source": [
        "# Running Time of Algorithms and big-O notation"
      ]
    },
    {
      "cell_type": "markdown",
      "metadata": {
        "nbgrader": {
          "grade": false,
          "locked": true,
          "solution": false
        },
        "id": "uHaZirPCcYJD"
      },
      "source": [
        "Did you ever think about how much time it takes the computer to run your program?\n",
        "Consider a short function that calculates Fibonacci numbers.\n",
        "In the Fibonnaci sequence every element equals to the sum of the two previous elements:\n",
        "\n",
        "$$0,1,1,2,3,5,8,13,21...$$\n",
        "\n",
        "The function `fibonacci` is given the index of the sequence and returns the corresponding value for this index.\n",
        "for example, `fibonnaci(7)`->13, `fibonnaci(2)`->1, `fibonnaci(0)`->0\n",
        "\n",
        "(By the way, if you don't understand the implementation of this program, do not worry! You can regard it as a black box. This notebook focuses on the running time of algorithms rather than on programming skills)"
      ]
    },
    {
      "cell_type": "code",
      "execution_count": null,
      "metadata": {
        "collapsed": true,
        "nbgrader": {
          "grade": false,
          "locked": true,
          "solution": false
        },
        "id": "SvqUI9cHcYJE"
      },
      "outputs": [],
      "source": [
        "def fibonacci(n):\n",
        "    if (n==0):\n",
        "        return 0, 1\n",
        "    elif n==1 or n==2:\n",
        "        return 1, 1\n",
        "    else:\n",
        "        fib2 = fibonacci(n-2)\n",
        "        fib1 = fibonacci(n-1)\n",
        "        return fib2[0] + fib1[0], fib2[1]+fib1[1]+1"
      ]
    },
    {
      "cell_type": "code",
      "execution_count": null,
      "metadata": {
        "nbgrader": {
          "grade": false,
          "locked": true,
          "solution": false
        },
        "id": "4NaYq_ZTcYJF",
        "outputId": "11b0fc3f-f233-4632-90ca-9da295b1e2a7"
      },
      "outputs": [
        {
          "name": "stdout",
          "output_type": "stream",
          "text": [
            "the 7th number of Fibonnaci is:  13\n",
            "the 2nd number of Fibonnaci is:  1\n",
            "the 20th number of Fibonnaci is:  6765\n"
          ]
        }
      ],
      "source": [
        "f7 = fibonacci(7)[0]\n",
        "f2 = fibonacci(2)[0]\n",
        "f20 = fibonacci(20)[0]\n",
        "\n",
        "print(\"the 7th number of Fibonnaci is: \", f7)\n",
        "print(\"the 2nd number of Fibonnaci is: \", f2)\n",
        "print(\"the 20th number of Fibonnaci is: \", f20)\n",
        "\n"
      ]
    },
    {
      "cell_type": "markdown",
      "metadata": {
        "nbgrader": {
          "grade": false,
          "locked": true,
          "solution": false
        },
        "id": "lJUDT9NDcYJH"
      },
      "source": [
        "It ran pretty fast right? Now try to run this Fibonacci number with 30 as a parameter."
      ]
    },
    {
      "cell_type": "code",
      "execution_count": null,
      "metadata": {
        "nbgrader": {
          "grade": false,
          "locked": true,
          "solution": false
        },
        "scrolled": true,
        "id": "wzVWc0tdcYJI",
        "outputId": "ad812ff1-9615-40d7-e130-9d698adb23c0"
      },
      "outputs": [
        {
          "data": {
            "text/plain": [
              "832040"
            ]
          },
          "execution_count": 3,
          "metadata": {},
          "output_type": "execute_result"
        }
      ],
      "source": [
        "fibonacci(30)[0]"
      ]
    },
    {
      "cell_type": "markdown",
      "metadata": {
        "nbgrader": {
          "grade": false,
          "locked": true,
          "solution": false
        },
        "id": "1m8ZuLDscYJJ"
      },
      "source": [
        "It took more time, but still pretty fast. What about 35? 100? (the next cell can take a while)."
      ]
    },
    {
      "cell_type": "code",
      "execution_count": null,
      "metadata": {
        "id": "I2MRkEjAcYJK",
        "outputId": "7caa556b-4171-4934-a5b4-e8eca3bb7f69"
      },
      "outputs": [
        {
          "data": {
            "text/plain": [
              "9227465"
            ]
          },
          "execution_count": 4,
          "metadata": {},
          "output_type": "execute_result"
        }
      ],
      "source": [
        "fibonacci(35)[0]"
      ]
    },
    {
      "cell_type": "markdown",
      "metadata": {
        "nbgrader": {
          "grade": false,
          "locked": true,
          "solution": false
        },
        "id": "w3J6vWLdcYJK"
      },
      "source": [
        "Actually, do not try to run `fibonacci(100)`, unless you want to wait in front of this notebook until your grandchildren have their own grandchildren.\n",
        "\n",
        "By the end of this notebook, you will understand exactly why that's the case."
      ]
    },
    {
      "cell_type": "markdown",
      "metadata": {
        "nbgrader": {
          "grade": false,
          "locked": true,
          "solution": false
        },
        "id": "7lUM-tRccYJL"
      },
      "source": [
        "Let's try now to understand how we can think about a running time of a program. \n",
        "consider the following program: program(a)"
      ]
    },
    {
      "cell_type": "code",
      "execution_count": null,
      "metadata": {
        "id": "aPx66PM8cYJM",
        "outputId": "437308e8-c516-4143-ebd9-bd2673674f4e"
      },
      "outputs": [
        {
          "name": "stdout",
          "output_type": "stream",
          "text": [
            "sum is:  114\n"
          ]
        }
      ],
      "source": [
        "## program(a)\n",
        "list_of_numbers = [1,40,3,-5,2,6,10]\n",
        "sum = 0\n",
        "for i in list_of_numbers:\n",
        "    x = i*2\n",
        "    sum += x\n",
        "print (\"sum is: \", sum)\n",
        "    \n",
        "    \n",
        "    "
      ]
    },
    {
      "cell_type": "markdown",
      "metadata": {
        "id": "W3_7FDMzcYJN"
      },
      "source": [
        "Program(a) is given a list of numbers, computes the multiplication by 2 of each number, sums it and prints that sum.\n",
        "Only for simplicity purposes, let's say that each line in this program is one basic computer operation\n",
        "\n",
        "`list_of_numbers = [1,40,3,-5,2,6,10]` is 1 computer operation\n",
        "\n",
        "`sum = 0` is 1 computer operation\n",
        "\n",
        "`x = i*2` is 1 computer operation \n",
        "\n",
        "\n",
        "And so on...\n",
        "\n",
        "So how many computer operations did this program execute?\n",
        "\n",
        "2 at the begining, 14 in the for loop (2 in each loop $\\cdot$ *7 loops*), and 1 at the end.\n",
        "\n",
        "*2+14+1 = 17* $\\rightarrow$ 17 computer operations."
      ]
    },
    {
      "cell_type": "markdown",
      "metadata": {
        "id": "mJy4RKc2cYJN"
      },
      "source": [
        "What about program(b), the same program but different size of list:"
      ]
    },
    {
      "cell_type": "code",
      "execution_count": null,
      "metadata": {
        "scrolled": true,
        "id": "BOCUKTiucYJO",
        "outputId": "ab940dd9-84e5-42c4-a8fc-681456e741a2"
      },
      "outputs": [
        {
          "name": "stdout",
          "output_type": "stream",
          "text": [
            "sum is:  222\n"
          ]
        }
      ],
      "source": [
        "## program(b)\n",
        "list_of_numbers = [1,40,3,-5,2,6,10,2,3,4,5,6,7,8,9,10]\n",
        "sum = 0\n",
        "for i in list_of_numbers:\n",
        "    x = i*2\n",
        "    sum += x\n",
        "print (\"sum is: \", sum)\n"
      ]
    },
    {
      "cell_type": "markdown",
      "metadata": {
        "id": "InGpmsAkcYJP"
      },
      "source": [
        "There are 2 at the beginning, 32 in the for loop (2 in each loop for *16 loops*), and 1 at the end. This makes a total of 35 computer operations.\n",
        "\n",
        "The number of operations the computer executed has grown, and that is because the length of the list is bigger and as a consequence more loop iterations were conducted. \n",
        "\n",
        "Hence we can conclude that the **running time of the program depends on the size of the data structure** the program iterates over. In other words, the **running time is a function of the length of the data structure.**\n",
        "\n",
        "In our program, if we denote the function $f$ to be the number of operations performed and  $n$ to be the length of the data structure then: $$f(n)= 2 + 2n +1  =   2n + 3$$ Notice that the running time here is linear in the length of the data structure."
      ]
    },
    {
      "cell_type": "markdown",
      "metadata": {
        "id": "Tl-0FgW7cYJP"
      },
      "source": [
        "In practice we will not count basic operations in every program, it is not that simple (1 line of code can constitute a lot of basic computer operations).\n",
        "\n",
        "**Instead we will upper bound the running time (i.e. $f(n)$) with a known function.**"
      ]
    },
    {
      "cell_type": "markdown",
      "metadata": {
        "id": "lfDuD2ZLcYJQ"
      },
      "source": [
        "### Big-O notation"
      ]
    },
    {
      "cell_type": "markdown",
      "metadata": {
        "id": "z9sJQhW2cYJQ"
      },
      "source": [
        "First, the mathematical definition:\n",
        "$ \\text{We say that } f(n) \\text{ is } O(g(n)) \\text{ when there is a constant } c \\text{ such that } f(n) \\le cg(n) \\text{ for big values of n.}$\n",
        "\n",
        "This means that $f(n)$ is $O(g(n))$, i.e. $f(n)$ is smaller than a some constant multiple of $g(n)$. \n",
        "\n",
        "For example, the function $f(n)=2n+3$ is $O(n)$; i.e. $g(n)=n$ because if c=10, for instance, $f(n)=2n+3\\le10n$ when n is big.\n",
        "\n",
        "Notice that $2n+3$ is also $O(n^2)$ and $O(n^{10})$ but we will try to find the slowest growing function possible.\n",
        "\n",
        "So program(a) and program(b), that we ran before, have a *time complexity* of $O(n)$ !! And notice that n is the size of the list."
      ]
    },
    {
      "cell_type": "markdown",
      "metadata": {
        "id": "KoWUpV94cYJR"
      },
      "source": [
        "More examples: \n",
        "$$ 3n^2 = O(n^2) \\text{;    for } c=5\\text{; }\\;3n^2 \\le 5n^2 \\text{ (for big n)}$$\n",
        "$$ n^3 +5n^2 +20 = O(n^3) \\text{;   for } c=100;\\;n^3 +5n^2 +20 \\le 100n^2 \\text{ (for big n)}$$\n",
        "$$ n - \\sqrt{n} = O(n) \\text{;    for } c=20\\text{; } n-\\sqrt{n} \\le 20n \\text{ (for big n)}$$\n",
        "$$ 100 = O(1) \\text{;    for } c=101\\text{; } 100 \\le 101\\cdot1 \\text{ (for big n)}$$\n",
        "$$ 2^n = O(2^n) $$\n",
        "$$ 3^n = O(3^n) $$\n",
        "$$ 5\\cdot log(n) + 100 = O(log(n))$$\n",
        "$$ \\sum_{i=1}^n i = 1+2+3+4+5+...+n = O(n^2)$$\n",
        "\n",
        "\n",
        "\n"
      ]
    },
    {
      "cell_type": "markdown",
      "metadata": {
        "id": "BB4eUpuDcYJR"
      },
      "source": [
        "**In general, we are not going to stick to the mathematical rules, instead we will try to understand how many times the program iterates our data set (without necessarily know how many operations have been done during each iteration), and we will choose the $O(\\cdot)$ accordingly.** Let's go through some examples."
      ]
    },
    {
      "cell_type": "markdown",
      "metadata": {
        "id": "MjcQBuBXcYJR"
      },
      "source": [
        "### Example no.1 - Searching in a sorted list "
      ]
    },
    {
      "cell_type": "markdown",
      "metadata": {
        "id": "ei_jG8d0cYJS"
      },
      "source": [
        "Let's generate a sorted list: (it may take few moments)\n"
      ]
    },
    {
      "cell_type": "code",
      "execution_count": null,
      "metadata": {
        "id": "bS-x4IjJcYJS",
        "outputId": "dea5f5cc-54f6-403a-c7e3-fe2a617233a7"
      },
      "outputs": [
        {
          "name": "stdout",
          "output_type": "stream",
          "text": [
            "20 first elements:  [3, 8, 12, 35, 54, 59, 67, 70, 75, 80, 84, 90, 99, 107, 110, 115, 123, 131, 150, 153]\n",
            "20 last elements: [99999787, 99999787, 99999797, 99999808, 99999817, 99999820, 99999841, 99999843, 99999871, 99999874, 99999881, 99999881, 99999903, 99999906, 99999909, 99999911, 99999916, 99999924, 99999948, 99999951]\n"
          ]
        }
      ],
      "source": [
        "## randomize a integer list with length ~ n, and sort it.\n",
        "import random\n",
        "n = 10**7\n",
        "lst = []\n",
        "for i in range(n):\n",
        "    x = random.randint(0,10**8)\n",
        "    lst.append(x)\n",
        "lst.append(12345678) ## inserting a  certain number to search\n",
        "lst.sort()\n",
        "print (\"20 first elements: \", lst[:20])\n",
        "print (\"20 last elements:\", lst[-20:])"
      ]
    },
    {
      "cell_type": "markdown",
      "metadata": {
        "id": "6Kvm0GZpcYJS"
      },
      "source": [
        "And let's say we want to find out if the number 12345678 is on the list or not.  \n",
        "As a solution, we can just traverse the list from the beginning to the end and look for this element: (The answer should be true)"
      ]
    },
    {
      "cell_type": "code",
      "execution_count": null,
      "metadata": {
        "collapsed": true,
        "id": "QLGo81Q-cYJT"
      },
      "outputs": [],
      "source": [
        "def naive_search(lst, num):\n",
        "    iterations=0\n",
        "    for x in lst:\n",
        "        iterations+=1\n",
        "        if x==num:\n",
        "            return True, iterations\n",
        "    return False, iterations"
      ]
    },
    {
      "cell_type": "code",
      "execution_count": null,
      "metadata": {
        "id": "ix9zeRnLcYJT",
        "outputId": "abd9b1cb-11b3-4f89-9797-59f6051857d3"
      },
      "outputs": [
        {
          "name": "stdout",
          "output_type": "stream",
          "text": [
            "The number exists in the list\n",
            "# of iterations:  1234891\n",
            "time:  0.20563300399953732 seconds\n"
          ]
        }
      ],
      "source": [
        "import time\n",
        "t1 = time.perf_counter() ## assign into t1 the current time\n",
        "flag, iterations = naive_search(lst, 12345678)\n",
        "t2 = time.perf_counter()## assign into t2 the current time\n",
        "if flag:\n",
        "    print (\"The number exists in the list\")\n",
        "else:\n",
        "    print (\"The number does not exist in the list\")\n",
        "print(\"# of iterations: \",iterations)\n",
        "print(\"time: \", (t2-t1), \"seconds\") ## the time delta between t1-->t2\n"
      ]
    },
    {
      "cell_type": "markdown",
      "metadata": {
        "id": "SVf7swFFcYJU"
      },
      "source": [
        "What will be the number of iterations if the element we were looking for is one of the first elements? What if it is one of the last elements? What will be the number of iterations if the element is not part of the list?\n",
        "\n",
        "\n",
        "**When analyzing *time complexity* of an algorithm we always consider the worst-case scenario.**\n",
        "In the solution above, the worst-case scenario is if the element does not exist in the list, in this case, we will iterate over the whole list before ending the algorithms. \n",
        "\n",
        "\n",
        "Hence, in the worst case, we will have $n=10^7$ iterations, and that means the *time complexity* is $O(n)$, linear in the length of the data set.\n",
        "\n",
        "Let's look for a number that does not exist:"
      ]
    },
    {
      "cell_type": "code",
      "execution_count": null,
      "metadata": {
        "id": "sZ_qEb-8cYJU",
        "outputId": "40ccf03c-4e0f-437a-bfe7-cc4b4a13f8dd"
      },
      "outputs": [
        {
          "name": "stdout",
          "output_type": "stream",
          "text": [
            "The number does not exist in the list\n",
            "# of iterations:  10000001\n",
            "time:  1.6263801040004182 seconds\n"
          ]
        }
      ],
      "source": [
        "t1 = time.perf_counter() ## assign into t1 the current time\n",
        "flag, iterations = naive_search(lst, 999999999999999)\n",
        "t2 = time.perf_counter()## assign into t2 the current time\n",
        "if flag:\n",
        "    print (\"The number exists in the list\")\n",
        "else:\n",
        "    print (\"The number does not exist in the list\")\n",
        "print(\"# of iterations: \",iterations)\n",
        "print(\"time: \", (t2-t1), \"seconds\") ## the time delta between t1-->t2"
      ]
    },
    {
      "cell_type": "markdown",
      "metadata": {
        "id": "U-chYJGQcYJU"
      },
      "source": [
        "We are going now to improve our naive search, with a more sophisticated algorithm for searching in a sorted list, the Binary Search.\n",
        "We will take advantage of the fact the list is sorted.\n",
        "We try to find a number x, we will first go to the middle of the list and now we have 3 options:\n",
        "\n",
        "1. the number is exactly in the middle, so we found him and we are done. \n",
        "2. the number is smaller than the middle, which means it can be found only in the first half of the list\n",
        "3. the number is greater than the middle, which means it can be found only in the second half of the list.\n",
        "\n",
        "if we are in step 2 or 3, we will redo the algorithm but only to the relevant half until we find (or don't find) the number. **Every iteration we cross out half of the list in our search! and that brings huge improvement to running time.**\n",
        "The picture below is for illustration:\n",
        "<img src=\"https://github.com/gt-cse-6040/big-o/blob/main/binary_search.png?raw=1\">"
      ]
    },
    {
      "cell_type": "code",
      "execution_count": null,
      "metadata": {
        "collapsed": true,
        "id": "BzWxtxP8cYJV"
      },
      "outputs": [],
      "source": [
        "def binary_search(arr,x):\n",
        "    l=0\n",
        "    r=len(arr)-1\n",
        "    iterations = 0\n",
        "    while l <= r:\n",
        "        iterations+=1\n",
        "        mid = l + (r - l) // 2;   \n",
        "        if arr[mid] == x: ## Check if x is in the middle\n",
        "            return True, iterations\n",
        "        elif arr[mid] < x:## If x is greater, ignore left half\n",
        "            l = mid + 1\n",
        "        else:             ## If x is smaller, ignore right half\n",
        "            r = mid - 1\n",
        "    return False, iterations  ## If we reach here, then the element is not in the list"
      ]
    },
    {
      "cell_type": "markdown",
      "metadata": {
        "id": "bXERwHDQcYJV"
      },
      "source": [
        "Let's try this algorithm for the numbers we used in the naive search. \n",
        "First: 12345678 \n",
        "Second, for the worst case scenario: 999999999999999"
      ]
    },
    {
      "cell_type": "code",
      "execution_count": null,
      "metadata": {
        "id": "sgOjI3_RcYJV",
        "outputId": "e137c4a0-c3a3-4c42-b56a-b0e6c9cb6b9a"
      },
      "outputs": [
        {
          "name": "stdout",
          "output_type": "stream",
          "text": [
            "The number exists in the list\n",
            "# of iterations:  24\n",
            "time:  7.579199882457033e-05 seconds\n"
          ]
        }
      ],
      "source": [
        "t1 = time.perf_counter() ## assign into t1 the current time\n",
        "flag, iterations = binary_search(lst, 12345678)\n",
        "t2 = time.perf_counter()## assign into t2 the current time\n",
        "if flag:\n",
        "    print (\"The number exists in the list\")\n",
        "else:\n",
        "    print (\"The number does not exist in the list\")\n",
        "print(\"# of iterations: \",iterations)\n",
        "print(\"time: \", (t2-t1), \"seconds\") ## the time delta between t1-->t2"
      ]
    },
    {
      "cell_type": "code",
      "execution_count": null,
      "metadata": {
        "id": "yKnFPv8GcYJW",
        "outputId": "cd0f3baf-f83f-4c17-9383-a9cc8fd15d7e"
      },
      "outputs": [
        {
          "name": "stdout",
          "output_type": "stream",
          "text": [
            "The number does not exist in the list\n",
            "# of iterations:  24\n",
            "time:  7.625299986102618e-05 seconds\n"
          ]
        }
      ],
      "source": [
        "t1 = time.perf_counter() ## assign into t1 the current time\n",
        "flag, iterations = binary_search(lst, 999999999999999)\n",
        "t2 = time.perf_counter()## assign into t2 the current time\n",
        "if flag:\n",
        "    print (\"The number exists in the list\")\n",
        "else:\n",
        "    print (\"The number does not exist in the list\")\n",
        "print(\"# of iterations: \",iterations)\n",
        "print(\"time: \", (t2-t1), \"seconds\") ## the time delta between t1-->t2"
      ]
    },
    {
      "cell_type": "markdown",
      "metadata": {
        "id": "Q4d4yPdJcYJW"
      },
      "source": [
        "Let's summarize:\n",
        "\n",
        "| algorithm| # of iterations for $n=10^7$ | time (sec)|\n",
        "| --- | --- | --- |\n",
        "| naive_search | 10000001 | 1.85 |\n",
        "| binary_search | 24 | 0.000092 |\n",
        "\n",
        "(the times are going to be different on your computers, but the trend should be the same)"
      ]
    },
    {
      "cell_type": "markdown",
      "metadata": {
        "id": "F-wPuSSdcYJW"
      },
      "source": [
        "Amazing! isn't it? \n",
        "Take a moment to think about the time complexity here. \n",
        "Every iteration we halved the list, which means that the number of iterations is the number of times we can half the list until we reach a list with the length of 1.\n",
        "\n",
        "Hence if the length of the list is $n$ the *time complexity* is $O(log(n))$.\n",
        "For our list, $n=10^7 \\text{ and hence the number of iterations should be } \\le \\lceil log_2(10^7) \\rceil = 24$  \n",
        "\n",
        "Look how math really impacts our algorithms!"
      ]
    },
    {
      "cell_type": "markdown",
      "metadata": {
        "id": "pLwjd7ewcYJX"
      },
      "source": [
        "### Example no.2 - Sorting a list "
      ]
    },
    {
      "cell_type": "markdown",
      "metadata": {
        "id": "gTBAYhm4cYJY"
      },
      "source": [
        "One of the most common tasks we do with lists is sort them. First let's generate a random list in the length of $n=10^4$ but this time we will not tell python to sort it. We will do it by ourselves: (it may take few moments)"
      ]
    },
    {
      "cell_type": "code",
      "execution_count": null,
      "metadata": {
        "scrolled": true,
        "id": "RXAGUui7cYJY",
        "outputId": "5e6e594f-cd2b-4386-91e5-e8e2e33acee4"
      },
      "outputs": [
        {
          "name": "stdout",
          "output_type": "stream",
          "text": [
            "20 first elements:  [51705196, 46673070, 65147542, 78795793, 16903248, 73316659, 62421884, 12612289, 76537946, 65872794, 8453071, 59261202, 92507716, 63341494, 65539385, 84641224, 8814088, 24597687, 65807755, 6093827] \n",
            "\n",
            "20 last elements: [31008242, 33845853, 97104031, 30508009, 41505054, 4755710, 12816912, 89731171, 68525287, 51045805, 41715630, 12926701, 77091391, 79746581, 88816993, 60762081, 26944656, 41127252, 74497896, 26135987] \n",
            "\n"
          ]
        }
      ],
      "source": [
        "## randomize a integer list with length ~ n, and sort it.\n",
        "import random\n",
        "n = 10**4\n",
        "lst = []\n",
        "for i in range(n):\n",
        "    x = random.randint(0,10**8)\n",
        "    lst.append(x)\n",
        "print (\"20 first elements: \", lst[:20],\"\\n\")\n",
        "print (\"20 last elements:\", lst[-20:],\"\\n\")"
      ]
    },
    {
      "cell_type": "markdown",
      "metadata": {
        "id": "YdDqKd-McYJY"
      },
      "source": [
        "Now let's sort it, we will first use a naive sort method, called selection sort. In selection sort we look for the minimum element in the list (what is the *time complexity* of finding the minimum in a list?) and then put this element at the beginning of the list. Then, we do the same for ```list[1:]``` and then for ```list[2:]``` until the end:\n",
        "\n",
        "![SegmentLocal](Selection-Sort-Animation.gif \"segment\")"
      ]
    },
    {
      "cell_type": "code",
      "execution_count": null,
      "metadata": {
        "collapsed": true,
        "id": "0oOsTst4cYJZ"
      },
      "outputs": [],
      "source": [
        "def selection_sort(arr):\n",
        "    iterations=0\n",
        "    for i in range(len(arr)):\n",
        "        min_idx = i\n",
        "        for j in range(i, len(arr)):\n",
        "            iterations+=1\n",
        "            if arr[min_idx] > arr[j]:\n",
        "                min_idx = j     \n",
        "        arr[i], arr[min_idx] = arr[min_idx], arr[i]\n",
        "    return arr, iterations"
      ]
    },
    {
      "cell_type": "code",
      "execution_count": null,
      "metadata": {
        "id": "47cLV226cYJZ",
        "outputId": "6201e53e-524e-4612-fe62-ea3558042d31"
      },
      "outputs": [
        {
          "name": "stdout",
          "output_type": "stream",
          "text": [
            "20 first elements:  [26424, 32581, 33977, 45442, 49497, 58036, 59299, 67306, 76887, 78608, 93143, 93393, 100980, 108159, 131555, 132540, 149841, 152130, 167893, 184727] \n",
            "\n",
            "20 last elements: [99748629, 99750205, 99752350, 99761707, 99768513, 99788137, 99789084, 99798340, 99801087, 99842588, 99862569, 99869384, 99871811, 99918584, 99951564, 99957648, 99962816, 99987452, 99991401, 99999394] \n",
            "\n",
            "# of iterations:  50005000\n",
            "time:  4.669906931998412 seconds\n"
          ]
        }
      ],
      "source": [
        "t1 = time.perf_counter() ## assign into t1 the current time\n",
        "lst, iterations = selection_sort(lst)\n",
        "t2 = time.perf_counter()## assign into t2 the current time\n",
        "print (\"20 first elements: \", lst[:20],\"\\n\")\n",
        "print (\"20 last elements:\", lst[-20:],\"\\n\")\n",
        "print(\"# of iterations: \",iterations)\n",
        "print(\"time: \", (t2-t1), \"seconds\") ## the time delta between t1-->t2"
      ]
    },
    {
      "cell_type": "markdown",
      "metadata": {
        "id": "pbd1cyX6cYJZ"
      },
      "source": [
        "Done! But it took a while, right? And keep in mind this was only for a list of $n=10^4=10000$ elements. What would happen if it was a list of $n=10^6=1000000$ elements, It would become really time consuming to sort that list... \n",
        "\n",
        "Let's analyze the running time. Notice we have a nested loop here, for the first outer loop, we executed $n$ iterations to find the minimum of ```list[:]```, then for the next outer loop we executed $n-1$ iterations to find the minimum of ```list[1:]```, then we executed $n-2$ iterations to find the next minimum and so on.\n",
        "\n",
        "Arithmetically speaking, the number of iterations in total for this algorithm is: $$\\sum_{i=n}^1 i = n+(n-1)+(n-2)+(n-3)+...+1 = \\frac{n^2}{2} + \\frac{n}{2} = O(n^2)$$\n",
        " \n",
        "This *time complexity* of $O(n^2)$ is completely doable for computers for $n \\approx 10^5$, However, for larger $n$ than that, the performance of the average computer will start to degrade."
      ]
    },
    {
      "cell_type": "markdown",
      "metadata": {
        "id": "qY_P1jXBcYJZ"
      },
      "source": [
        "Now, Let's improve it. Did you notice that in example no.1 we created a list of $n=10^7$ and the built-in ```sort()``` function of python sorted this list quickly? For those sizes of list python does not use selection sort but another sorting algorithm. There are many sort algorithms that use a divide and conquer method. Here we will explore Merge Sort.\n",
        "\n",
        "Let's generate again a list of random numbers"
      ]
    },
    {
      "cell_type": "code",
      "execution_count": null,
      "metadata": {
        "id": "oC-svrd-cYJZ",
        "outputId": "5643323a-dc2f-42ba-ec90-af0d20642f64"
      },
      "outputs": [
        {
          "name": "stdout",
          "output_type": "stream",
          "text": [
            "20 first elements:  [61885140, 89309032, 54402896, 42285095, 18415595, 15858615, 37547666, 25168086, 62740852, 28280591, 82253556, 25812327, 39045387, 36548647, 20013121, 11459858, 88884165, 8563679, 56577748, 61685126] \n",
            "\n",
            "20 last elements: [79978785, 44687725, 67070849, 12795938, 28100649, 35458754, 7176517, 14300816, 29755547, 87897155, 8389200, 4778933, 87891392, 84447376, 58338225, 60346636, 90596133, 44086894, 27843594, 76164972] \n",
            "\n"
          ]
        }
      ],
      "source": [
        "## randomize a integer list with length ~ n, and sort it.\n",
        "import random\n",
        "n = 10**4\n",
        "lst = []\n",
        "for i in range(n):\n",
        "    x = random.randint(0,10**8)\n",
        "    lst.append(x)\n",
        "print (\"20 first elements: \", lst[:20],\"\\n\")\n",
        "print (\"20 last elements:\", lst[-20:],\"\\n\")"
      ]
    },
    {
      "cell_type": "markdown",
      "metadata": {
        "id": "oRX4qY84cYJa"
      },
      "source": [
        "\n",
        "On a high level the algorithm has three steps, which are repeated recursively:\n",
        "1. Split the list in half if possible, otherwise the list of length 1 is considered sorted and passed up.\n",
        "2. Sort each half recursively using this algorithm.\n",
        "3. Merge the two halves together by \"popping\" the smallest element from the top of each half until you exhaust one half.\n",
        "\n",
        "The algorithm is implemented below. \n",
        "(If you do not understand the implementation, do not worry. It is not the subject of this notebook)"
      ]
    },
    {
      "cell_type": "code",
      "execution_count": null,
      "metadata": {
        "collapsed": true,
        "id": "reLqM9XNcYJa"
      },
      "outputs": [],
      "source": [
        "def merge(a, b, counter, verbose=False):\n",
        "    result = []\n",
        "    x = a.copy()\n",
        "    y = b.copy()\n",
        "    counter += len(x) + len(y)\n",
        "    while (len(x) > 0 and len(y) > 0):\n",
        "        if x[0] < y[0]:\n",
        "            result.append(x[0])\n",
        "            x.pop(0)\n",
        "        else:\n",
        "            result.append(y[0])\n",
        "            y.pop(0)\n",
        "    result = result + x + y\n",
        "    \n",
        "    return result, counter\n",
        "\n",
        "def merge_sort(l, counter=0):\n",
        "    if len(l) == 1: return l, counter\n",
        "    m = len(l) // 2\n",
        "    a, c1 = merge_sort(l[:m], counter)\n",
        "    b, c2 = merge_sort(l[m:], counter)\n",
        "    counter += c1 + c2\n",
        "    return merge(a, b, counter)"
      ]
    },
    {
      "cell_type": "code",
      "execution_count": null,
      "metadata": {
        "id": "jmi2-VU4cYJa",
        "outputId": "6fd5f7b7-2729-4f37-ef6a-4925573cb2e1"
      },
      "outputs": [
        {
          "name": "stdout",
          "output_type": "stream",
          "text": [
            "20 first elements:  [876, 9027, 9962, 14919, 21034, 32615, 46797, 48200, 127296, 161479, 164517, 175063, 175622, 175802, 199059, 201743, 215074, 216625, 220736, 223623] \n",
            "\n",
            "20 last elements: [99796353, 99801667, 99806844, 99822598, 99830906, 99834176, 99876114, 99879269, 99880545, 99884876, 99888022, 99889721, 99893275, 99916674, 99920882, 99928986, 99954145, 99959165, 99971926, 99982464] \n",
            "\n",
            "# of iterations:  133616\n",
            "time:  0.059926264999376144 seconds\n"
          ]
        }
      ],
      "source": [
        "t1 = time.perf_counter() ## assign into t1 the current time\n",
        "lst, iterations = merge_sort(lst)\n",
        "t2 = time.perf_counter()## assign into t2 the current time\n",
        "print (\"20 first elements: \", lst[:20],\"\\n\")\n",
        "print (\"20 last elements:\", lst[-20:],\"\\n\")\n",
        "print(\"# of iterations: \",iterations)\n",
        "print(\"time: \", (t2-t1), \"seconds\") ## the time delta between t1-->t2"
      ]
    },
    {
      "cell_type": "markdown",
      "metadata": {
        "id": "megS8tjOcYJb"
      },
      "source": [
        "Before we analyze, let's summarize:\n",
        "\n",
        "| algorithm| # of iterations for $n=10^4$ | time (sec)|\n",
        "| --- | --- | --- |\n",
        "| selection_sort | 50005000 |  5.624 |\n",
        "| merge_sort | 133616 | 0.0494 |\n",
        "\n",
        "(the times are going to be different on your computers, but the trend should be the same)"
      ]
    },
    {
      "cell_type": "markdown",
      "metadata": {
        "id": "HcO5H8RIcYJc"
      },
      "source": [
        "Now, let's do some analysis:\n",
        "\n",
        "First, let's look at the `merge` function. Specifically the inner portion of the `while` loop.\n",
        "```\n",
        "if x[0] < y[0]:\n",
        "    result.append(x[0])\n",
        "    x.pop(0)\n",
        "else:\n",
        "    result.append(y[0])\n",
        "    y.pop(0)\n",
        "```\n",
        "This code has a conditional check, a list append, and a list pop. None of these depend on the length of the input lists (`a` and `b`), so the inner portion of the loop is $O(1)$.\n",
        "\n",
        "The next question is \"how many times does the $O(1)$ loop execute?\" Well, it removes exactly one element every time through until one list is exhausted, and the worst case is that the largest two elements will be in separate lists. This means that we could iterate up to `len(a) + len(b)` times. Even if we aren't in the worst case we still have to add the rest of the non-empty list onto the result after the loop finishes. The operations that we save by getting lucky are made up immediately afterwards. If we define $k$ as `len(a) + len(b)`, then each `merge` step is $O(k)$.\n",
        "\n",
        "Now let's look at the `merge_sort` function. We'll start with the return statement. \n",
        "```\n",
        "return merge(a, b, counter)\n",
        "```\n",
        "This is just a call to `merge` and `a` and `b` are two halves of the list we're sorting (length `n`). So this step is $O(n)$. \n",
        "\n",
        "Now there's just the matter of the two recursive calls to `merge_sort`. Let's start by defining a function $T(n)$ that is the run time of a call to `merge_sort` sorting a list of length $n$. Note that each recursive call is working on a list that is **half** of the length of the original input, i.e. $n/2$\n",
        "$$T(n) = 2T(\\lceil n/2 \\rceil) + O(n); \\; T(1) = 0$$\n",
        "Now consider $f(n) = 2f( \\frac{n}{2} ) + n;\\; f(n) = 0 \\text{ if } n \\le 1$. Lets expand a few times.\n",
        "$$f(n) = n + 2\\frac{n}{2}  + 4\\frac{n}{4} + 8f\\left (\\frac{n}{8} \\right)$$\n",
        "We can see a pattern. Each time we expand we add another $n$ to the sum. Let's look at the $k$-th expansion.\n",
        "$$f(n) = nk + 2^kf(\\frac{n}{2^k})$$\n",
        "Remember that eventually, once $\\frac{n}{2^k} \\le 1$ the additional terms will become $0$. \n",
        "$$\\frac{n}{2^k} \\le 1\\;\\rightarrow\\;n \\le 2^k\\;\\rightarrow\\; log_2n \\le k$$\n",
        "With this we can conclude that the sum will have no more than $log_2n$ terms. $T(n) = O(nlog_2n)$!\n",
        "\n",
        "\n"
      ]
    },
    {
      "cell_type": "markdown",
      "metadata": {
        "id": "qP6SFiJYcYJc"
      },
      "source": [
        "### Example no.3 - Constant complexity "
      ]
    },
    {
      "cell_type": "markdown",
      "metadata": {
        "id": "oMATDwrhcYJd"
      },
      "source": [
        "Consider the following program:"
      ]
    },
    {
      "cell_type": "code",
      "execution_count": null,
      "metadata": {
        "id": "4niOlpyEcYJd",
        "outputId": "a536478b-84f4-4aa2-f50d-2d0dc73567f7"
      },
      "outputs": [
        {
          "name": "stdout",
          "output_type": "stream",
          "text": [
            "-108\n"
          ]
        }
      ],
      "source": [
        "lst = [5,3,9,11,12,13,14,15,16,17,18,44,-1]\n",
        "x=lst[0]\n",
        "y=lst[1]\n",
        "z=lst[2]\n",
        "x=x+1\n",
        "y=y+y\n",
        "z=z-z*z\n",
        "print ((x*y*z)%(z+y+z))"
      ]
    },
    {
      "cell_type": "markdown",
      "metadata": {
        "id": "qC0CegCqcYJe"
      },
      "source": [
        "Consider the above code: although we have few commands, we do not iterate the data set. We do a constant number of computer operations that do not depend on the length of the data structure. \n",
        "\n",
        "In this case we say that this program is $O(1)$. This is the best *time complexity* algorithm we can have. \n",
        "\n",
        "We will immediately see how we can improve very high *time complexity* to be $O(1)$. the following program: "
      ]
    },
    {
      "cell_type": "markdown",
      "metadata": {
        "id": "KVv0jib_cYJe"
      },
      "source": [
        "### Back to Fibonnaci numbers"
      ]
    },
    {
      "cell_type": "markdown",
      "metadata": {
        "id": "gUYmi2QZcYJe"
      },
      "source": [
        "Reminder that at the beginning of the notebook we created a function that calculates Fibonacci numbers"
      ]
    },
    {
      "cell_type": "code",
      "execution_count": null,
      "metadata": {
        "collapsed": true,
        "id": "g52qHRl0cYJe"
      },
      "outputs": [],
      "source": [
        "def fibonacci(n):\n",
        "    if (n==0):\n",
        "        return 0, 1\n",
        "    elif n==1 or n==2:\n",
        "        return 1, 1\n",
        "    else:\n",
        "        fib2 = fibonacci(n-2)\n",
        "        fib1 = fibonacci(n-1)\n",
        "        return fib2[0] + fib1[0], fib2[1]+fib1[1]+1"
      ]
    },
    {
      "cell_type": "markdown",
      "metadata": {
        "id": "8xFG2zTLcYJe"
      },
      "source": [
        "What is the \"length of the data structure\" in this case? This function actually calculates the whole Fibonacci numbers sequence until the $n$ index and returns this $n's$ value. So in this case length of the data structure is $n$ and the running time is a function of $n$. "
      ]
    },
    {
      "cell_type": "markdown",
      "metadata": {
        "id": "16L5bomRcYJe"
      },
      "source": [
        "Let's see how many iterations we do in the following: (it may take a while)"
      ]
    },
    {
      "cell_type": "code",
      "execution_count": null,
      "metadata": {
        "id": "dEkJkFFbcYJe",
        "outputId": "be10cbda-4a69-4cb0-af98-421374e5c924"
      },
      "outputs": [
        {
          "name": "stdout",
          "output_type": "stream",
          "text": [
            "for n= 1\n",
            "# of iterations:  1\n",
            "time:  1.8549981177784503e-06 seconds\n",
            "\n",
            "\n",
            "\n",
            "for n= 7\n",
            "# of iterations:  25\n",
            "time:  7.081998774083331e-06 seconds\n",
            "\n",
            "\n",
            "\n",
            "for n= 20\n",
            "# of iterations:  13529\n",
            "time:  0.002610902000014903 seconds\n",
            "\n",
            "\n",
            "\n",
            "for n= 30\n",
            "# of iterations:  1664079\n",
            "time:  0.3201591910001298 seconds\n",
            "\n",
            "\n",
            "\n",
            "for n= 35\n",
            "# of iterations:  18454929\n",
            "time:  3.5393053199986753 seconds\n",
            "\n",
            "\n",
            "\n"
          ]
        }
      ],
      "source": [
        "idx = [1,7,20,30,35]\n",
        "iters = []\n",
        "times = []\n",
        "for i in [1,7,20,30,35]:\n",
        "    t1 = time.perf_counter() ## assign into t1 the current time\n",
        "    iters.append(fibonacci(i)[1])\n",
        "    t2 = time.perf_counter()## assign into t2 the current time\n",
        "    times.append(t2-t1)\n",
        "    \n",
        "for i,x in enumerate(idx):\n",
        "    print(\"for n=\",x)\n",
        "    print (\"# of iterations: \",iters[i])\n",
        "    print (\"time: \",times[i],\"seconds\")\n",
        "    print (\"\\n\\n\")"
      ]
    },
    {
      "cell_type": "markdown",
      "metadata": {
        "id": "dv3k9vu-cYJf"
      },
      "source": [
        "See how quickly, for relatively small $n$, we climb up in the # of iterations and time."
      ]
    },
    {
      "cell_type": "markdown",
      "metadata": {
        "id": "CuDfBSHucYJf"
      },
      "source": [
        "Let's analyze the *time complexity* of this function. \n",
        "This function work as follows: for a given $n$, it calculates the Fibonacci number of $n-2$ and $n-1$ and sum them together, but to do those calculations we need to call again for this Fibonacci function. and each function call another Fibonacci function. It can be described in the following image: \n",
        "<img src=\"https://github.com/gt-cse-6040/big-o/blob/main/fibonacci_tree.png?raw=1\">"
      ]
    },
    {
      "cell_type": "markdown",
      "metadata": {
        "id": "5VyJ5MTzcYJf"
      },
      "source": [
        "In each node of the tree, we do a constant amount of operations. The number of nodes in the tree depends on $n$ and with some math we can show that the number of nodes is: $O(2^n)$. \n",
        "\n",
        "Since we do a constant amount of operations in each node the *time complexity* of this algorithm is also $O(2^n)$. Exponential. \n",
        "That is why even for small $n$, like $n=100$ it will take your computer $\\approx 2^{100}$ operations which is $\\approx 1 \\text{ million years for a state of the art computer.}$   "
      ]
    },
    {
      "cell_type": "markdown",
      "metadata": {
        "id": "fN3ppoH-cYJg"
      },
      "source": [
        "Be very cautious when dealing with algorithms that can be exponential in $n$."
      ]
    },
    {
      "cell_type": "markdown",
      "metadata": {
        "id": "rFBtJqTOcYJg"
      },
      "source": [
        "However, with number theory, we can show that:\n",
        "$$fibonacci(n) = \\frac{1}{\\sqrt{5}}\\cdot((\\frac{1+\\sqrt{5}}{2})^n - (\\frac{1-\\sqrt{5}}{2})^n)$$\n",
        "\n",
        "...But we will spare you that ;)"
      ]
    },
    {
      "cell_type": "markdown",
      "metadata": {
        "id": "5k8uE-2zcYJg"
      },
      "source": [
        "We will write a function that implements the above formula:"
      ]
    },
    {
      "cell_type": "code",
      "execution_count": null,
      "metadata": {
        "collapsed": true,
        "id": "L7PNjOaIcYJg"
      },
      "outputs": [],
      "source": [
        "def fibonacci_better(n):\n",
        "    return int((1/(5**0.5))*(((1+5**0.5)/2)**n-((1-5**0.5)/2)**n)//1)"
      ]
    },
    {
      "cell_type": "code",
      "execution_count": null,
      "metadata": {
        "id": "p46Oi2VdcYJh",
        "outputId": "8273e660-04b5-4bd9-c2e8-52c345838731"
      },
      "outputs": [
        {
          "name": "stdout",
          "output_type": "stream",
          "text": [
            "fibonacci_better(7):  13\n",
            "fibonacci_better(20):  6765\n",
            "fibonacci_better(35):  9227465\n"
          ]
        }
      ],
      "source": [
        "print (\"fibonacci_better(7): \", fibonacci_better(7))\n",
        "print (\"fibonacci_better(20): \", fibonacci_better(20))\n",
        "print (\"fibonacci_better(35): \", fibonacci_better(35))"
      ]
    },
    {
      "cell_type": "code",
      "execution_count": null,
      "metadata": {
        "scrolled": true,
        "id": "h_QGy1bBcYJi",
        "outputId": "6503b255-fc00-4240-e3c5-ba28920688e7"
      },
      "outputs": [
        {
          "name": "stdout",
          "output_type": "stream",
          "text": [
            "fibonacci_better(100):  354224848179263111168\n"
          ]
        }
      ],
      "source": [
        "print (\"fibonacci_better(100): \", fibonacci_better(100))"
      ]
    },
    {
      "cell_type": "markdown",
      "metadata": {
        "id": "Ns_yDYi8cYJi"
      },
      "source": [
        "And this calculates Fibonacci numbers in $O(1)$ !!"
      ]
    },
    {
      "cell_type": "markdown",
      "metadata": {
        "id": "DVLNlqWGcYJj"
      },
      "source": [
        "### Conclusion"
      ]
    },
    {
      "cell_type": "markdown",
      "metadata": {
        "id": "kmvDoZP-cYJj"
      },
      "source": [
        "Keep in mind that the computer has limits, even when it comes to computational time. when you run your programs, especially when it deals with large data sets, be aware of the efficiency of the algorithm. As a rule of thumb, it is better to run algorithms that are $O(n \\cdot log(n))$ or lower. Otherwise, it can take a lot of time to complete the algorithms.  \n",
        "<img src=\"https://github.com/gt-cse-6040/big-o/blob/main/bigO_chart.png?raw=1\">"
      ]
    },
    {
      "cell_type": "markdown",
      "metadata": {
        "id": "01a_EcvmcYJj"
      },
      "source": [
        "### Extra"
      ]
    },
    {
      "cell_type": "markdown",
      "metadata": {
        "id": "T2MAnkDKcYJk"
      },
      "source": [
        "What is the *time complexity* of this permutation algorithm?"
      ]
    },
    {
      "cell_type": "code",
      "execution_count": null,
      "metadata": {
        "id": "_rSVkItGcYJk",
        "outputId": "f394809e-e577-4da4-e245-e94ea9264d20"
      },
      "outputs": [
        {
          "data": {
            "text/plain": [
              "5040"
            ]
          },
          "execution_count": 26,
          "metadata": {},
          "output_type": "execute_result"
        }
      ],
      "source": [
        "def permutation(list_of_char, left, right, results):\n",
        "    if left==right:\n",
        "        results.append(list_of_char)\n",
        "    else:\n",
        "        for i in range(left,right+1):\n",
        "            list_of_char[left], list_of_char[i] = list_of_char[i], list_of_char[left]\n",
        "            permutation(list_of_char, left+1, right, results)\n",
        "            list_of_char[left], list_of_char[i] = list_of_char[i], list_of_char[left] \n",
        "list_of_char = list(['a','b','c','d','1','!','*'])\n",
        "perms = []\n",
        "\n",
        "permutation(list_of_char, 0, len(list_of_char)-1, perms)\n",
        "len(perms)"
      ]
    }
  ],
  "metadata": {
    "interpreter": {
      "hash": "3fd46944e962958c55dea57c2958abafb59d97d99849a82f15f0d5b255610906"
    },
    "kernelspec": {
      "display_name": "Python 3 [3.7]",
      "language": "python",
      "name": "python3"
    },
    "language_info": {
      "codemirror_mode": {
        "name": "ipython",
        "version": 3
      },
      "file_extension": ".py",
      "mimetype": "text/x-python",
      "name": "python",
      "nbconvert_exporter": "python",
      "pygments_lexer": "ipython3",
      "version": "3.7.5"
    },
    "toc": {
      "base_numbering": 1,
      "nav_menu": {},
      "number_sections": true,
      "sideBar": true,
      "skip_h1_title": false,
      "title_cell": "Table of Contents",
      "title_sidebar": "Contents",
      "toc_cell": false,
      "toc_position": {},
      "toc_section_display": true,
      "toc_window_display": false
    },
    "colab": {
      "provenance": [],
      "include_colab_link": true
    }
  },
  "nbformat": 4,
  "nbformat_minor": 0
}